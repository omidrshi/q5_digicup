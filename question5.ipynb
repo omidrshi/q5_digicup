{
 "cells": [
  {
   "cell_type": "code",
   "execution_count": 1,
   "metadata": {},
   "outputs": [],
   "source": [
    "import sqlite3\n",
    "import pandas as pd"
   ]
  },
  {
   "cell_type": "code",
   "execution_count": 2,
   "metadata": {},
   "outputs": [],
   "source": [
    "con = sqlite3.connect(\"q5/dkcup_test\")"
   ]
  },
  {
   "cell_type": "code",
   "execution_count": 3,
   "metadata": {},
   "outputs": [],
   "source": [
    "query = \"\"\"select user_id, ltrim(substr(min(date), 6, 2), '0') || \"/\" || ltrim(substr(min(date),9,2), '0')  || \"/\" || ltrim(substr(min(date), 3,2), '0') as start_date, ltrim(substr(max(date), 6, 2), '0') || \"/\" || ltrim(substr(max(date),9,2), '0')  || \"/\" || ltrim(substr(max(date), 3,2), '0') as end_date, log as status, count(*) as length from (select users_log_id.*,(row_number() over (order by id) - row_number() over (partition by log order by id)) as grp from (select *, row_number() over () as id from users_log) as users_log_id ) users_log_id group by grp, log, user_id ORDER BY min(date), user_id;\"\"\"\n",
    "df = pd.read_sql_query(query, con)"
   ]
  },
  {
   "cell_type": "code",
   "execution_count": 4,
   "metadata": {},
   "outputs": [
    {
     "data": {
      "text/html": [
       "<div>\n",
       "<style scoped>\n",
       "    .dataframe tbody tr th:only-of-type {\n",
       "        vertical-align: middle;\n",
       "    }\n",
       "\n",
       "    .dataframe tbody tr th {\n",
       "        vertical-align: top;\n",
       "    }\n",
       "\n",
       "    .dataframe thead th {\n",
       "        text-align: right;\n",
       "    }\n",
       "</style>\n",
       "<table border=\"1\" class=\"dataframe\">\n",
       "  <thead>\n",
       "    <tr style=\"text-align: right;\">\n",
       "      <th></th>\n",
       "      <th>user_id</th>\n",
       "      <th>start_date</th>\n",
       "      <th>end_date</th>\n",
       "      <th>status</th>\n",
       "      <th>length</th>\n",
       "    </tr>\n",
       "  </thead>\n",
       "  <tbody>\n",
       "    <tr>\n",
       "      <th>0</th>\n",
       "      <td>51725</td>\n",
       "      <td>1/1/19</td>\n",
       "      <td>1/1/19</td>\n",
       "      <td>1</td>\n",
       "      <td>1</td>\n",
       "    </tr>\n",
       "    <tr>\n",
       "      <th>1</th>\n",
       "      <td>116054</td>\n",
       "      <td>1/1/19</td>\n",
       "      <td>1/1/19</td>\n",
       "      <td>0</td>\n",
       "      <td>1</td>\n",
       "    </tr>\n",
       "    <tr>\n",
       "      <th>2</th>\n",
       "      <td>140223</td>\n",
       "      <td>1/1/19</td>\n",
       "      <td>1/2/19</td>\n",
       "      <td>1</td>\n",
       "      <td>2</td>\n",
       "    </tr>\n",
       "    <tr>\n",
       "      <th>3</th>\n",
       "      <td>275100</td>\n",
       "      <td>1/1/19</td>\n",
       "      <td>1/2/19</td>\n",
       "      <td>0</td>\n",
       "      <td>2</td>\n",
       "    </tr>\n",
       "    <tr>\n",
       "      <th>4</th>\n",
       "      <td>313779</td>\n",
       "      <td>1/1/19</td>\n",
       "      <td>1/3/19</td>\n",
       "      <td>1</td>\n",
       "      <td>3</td>\n",
       "    </tr>\n",
       "  </tbody>\n",
       "</table>\n",
       "</div>"
      ],
      "text/plain": [
       "   user_id start_date end_date  status  length\n",
       "0    51725     1/1/19   1/1/19       1       1\n",
       "1   116054     1/1/19   1/1/19       0       1\n",
       "2   140223     1/1/19   1/2/19       1       2\n",
       "3   275100     1/1/19   1/2/19       0       2\n",
       "4   313779     1/1/19   1/3/19       1       3"
      ]
     },
     "execution_count": 4,
     "metadata": {},
     "output_type": "execute_result"
    }
   ],
   "source": [
    "df.head()"
   ]
  },
  {
   "cell_type": "code",
   "execution_count": 5,
   "metadata": {},
   "outputs": [
    {
     "name": "stdout",
     "output_type": "stream",
     "text": [
      "<class 'pandas.core.frame.DataFrame'>\n",
      "RangeIndex: 893 entries, 0 to 892\n",
      "Data columns (total 5 columns):\n",
      " #   Column      Non-Null Count  Dtype \n",
      "---  ------      --------------  ----- \n",
      " 0   user_id     893 non-null    int64 \n",
      " 1   start_date  893 non-null    object\n",
      " 2   end_date    893 non-null    object\n",
      " 3   status      893 non-null    int64 \n",
      " 4   length      893 non-null    int64 \n",
      "dtypes: int64(3), object(2)\n",
      "memory usage: 35.0+ KB\n"
     ]
    }
   ],
   "source": [
    "df.info()"
   ]
  },
  {
   "cell_type": "code",
   "execution_count": 6,
   "metadata": {},
   "outputs": [],
   "source": [
    "df_ans = pd.read_csv('q5/answer_test_db_users.csv')"
   ]
  },
  {
   "cell_type": "code",
   "execution_count": 7,
   "metadata": {},
   "outputs": [
    {
     "data": {
      "text/html": [
       "<div>\n",
       "<style scoped>\n",
       "    .dataframe tbody tr th:only-of-type {\n",
       "        vertical-align: middle;\n",
       "    }\n",
       "\n",
       "    .dataframe tbody tr th {\n",
       "        vertical-align: top;\n",
       "    }\n",
       "\n",
       "    .dataframe thead th {\n",
       "        text-align: right;\n",
       "    }\n",
       "</style>\n",
       "<table border=\"1\" class=\"dataframe\">\n",
       "  <thead>\n",
       "    <tr style=\"text-align: right;\">\n",
       "      <th></th>\n",
       "      <th>user_id</th>\n",
       "      <th>start_date</th>\n",
       "      <th>end_date</th>\n",
       "      <th>status</th>\n",
       "      <th>length</th>\n",
       "    </tr>\n",
       "  </thead>\n",
       "  <tbody>\n",
       "    <tr>\n",
       "      <th>0</th>\n",
       "      <td>51725</td>\n",
       "      <td>1/1/19</td>\n",
       "      <td>1/1/19</td>\n",
       "      <td>1</td>\n",
       "      <td>1</td>\n",
       "    </tr>\n",
       "    <tr>\n",
       "      <th>1</th>\n",
       "      <td>116054</td>\n",
       "      <td>1/1/19</td>\n",
       "      <td>1/1/19</td>\n",
       "      <td>0</td>\n",
       "      <td>1</td>\n",
       "    </tr>\n",
       "    <tr>\n",
       "      <th>2</th>\n",
       "      <td>140223</td>\n",
       "      <td>1/1/19</td>\n",
       "      <td>1/2/19</td>\n",
       "      <td>1</td>\n",
       "      <td>2</td>\n",
       "    </tr>\n",
       "    <tr>\n",
       "      <th>3</th>\n",
       "      <td>275100</td>\n",
       "      <td>1/1/19</td>\n",
       "      <td>1/2/19</td>\n",
       "      <td>0</td>\n",
       "      <td>2</td>\n",
       "    </tr>\n",
       "    <tr>\n",
       "      <th>4</th>\n",
       "      <td>313779</td>\n",
       "      <td>1/1/19</td>\n",
       "      <td>1/3/19</td>\n",
       "      <td>1</td>\n",
       "      <td>3</td>\n",
       "    </tr>\n",
       "  </tbody>\n",
       "</table>\n",
       "</div>"
      ],
      "text/plain": [
       "   user_id start_date end_date  status  length\n",
       "0    51725     1/1/19   1/1/19       1       1\n",
       "1   116054     1/1/19   1/1/19       0       1\n",
       "2   140223     1/1/19   1/2/19       1       2\n",
       "3   275100     1/1/19   1/2/19       0       2\n",
       "4   313779     1/1/19   1/3/19       1       3"
      ]
     },
     "execution_count": 7,
     "metadata": {},
     "output_type": "execute_result"
    }
   ],
   "source": [
    "df_ans.head()"
   ]
  },
  {
   "cell_type": "code",
   "execution_count": 8,
   "metadata": {},
   "outputs": [
    {
     "name": "stdout",
     "output_type": "stream",
     "text": [
      "<class 'pandas.core.frame.DataFrame'>\n",
      "RangeIndex: 893 entries, 0 to 892\n",
      "Data columns (total 5 columns):\n",
      " #   Column      Non-Null Count  Dtype \n",
      "---  ------      --------------  ----- \n",
      " 0   user_id     893 non-null    int64 \n",
      " 1   start_date  893 non-null    object\n",
      " 2   end_date    893 non-null    object\n",
      " 3   status      893 non-null    int64 \n",
      " 4   length      893 non-null    int64 \n",
      "dtypes: int64(3), object(2)\n",
      "memory usage: 35.0+ KB\n"
     ]
    }
   ],
   "source": [
    "df_ans.info()"
   ]
  },
  {
   "cell_type": "code",
   "execution_count": 9,
   "metadata": {},
   "outputs": [
    {
     "data": {
      "text/plain": [
       "True"
      ]
     },
     "execution_count": 9,
     "metadata": {},
     "output_type": "execute_result"
    }
   ],
   "source": [
    "df.equals(df_ans)"
   ]
  },
  {
   "cell_type": "code",
   "execution_count": null,
   "metadata": {},
   "outputs": [],
   "source": []
  }
 ],
 "metadata": {
  "kernelspec": {
   "display_name": "Python 3",
   "language": "python",
   "name": "python3"
  },
  "language_info": {
   "codemirror_mode": {
    "name": "ipython",
    "version": 3
   },
   "file_extension": ".py",
   "mimetype": "text/x-python",
   "name": "python",
   "nbconvert_exporter": "python",
   "pygments_lexer": "ipython3",
   "version": "3.8.2"
  }
 },
 "nbformat": 4,
 "nbformat_minor": 4
}
